{
 "cells": [
  {
   "cell_type": "markdown",
   "id": "a7bc3caf-8f22-4dff-9ee6-16060f6c88f8",
   "metadata": {},
   "source": [
    "# https://www.Darshan.com/python/python_string_methods.htm"
   ]
  },
  {
   "cell_type": "markdown",
   "id": "6048b08d-90a3-434f-9bc8-9392809fc5f5",
   "metadata": {},
   "source": [
    "# Case Conversion Methods"
   ]
  },
  {
   "cell_type": "code",
   "execution_count": 21,
   "id": "373302be-c01d-4584-8e95-122aabad2b80",
   "metadata": {},
   "outputs": [
    {
     "name": "stdout",
     "output_type": "stream",
     "text": [
      "Darshan sarvaiya\n",
      "Darshan sarvaiya\n",
      "Darshan sarvaiya\n"
     ]
    }
   ],
   "source": [
    "print('darshan sarvaiya'.capitalize())\n",
    "print('Darshan Sarvaiya'.capitalize())\n",
    "print(\"DARSHAN SARVAIYA\".capitalize())"
   ]
  },
  {
   "cell_type": "code",
   "execution_count": 22,
   "id": "2f28c7ca-7eb8-4a08-990a-1e30ad832369",
   "metadata": {},
   "outputs": [
    {
     "name": "stdout",
     "output_type": "stream",
     "text": [
      "darshan sarvaiya\n",
      "darshan sarvaiya\n",
      "darshan sarvaiya\n"
     ]
    }
   ],
   "source": [
    "print('darshan sarvaiya'.casefold())\n",
    "print('Darshan Sarvaiya'.casefold())\n",
    "print(\"DARSHAN SARVAIYA\".casefold())"
   ]
  },
  {
   "cell_type": "code",
   "execution_count": 23,
   "id": "a78cfbb6-e88f-47c8-b6ed-dda27b9785e3",
   "metadata": {},
   "outputs": [
    {
     "name": "stdout",
     "output_type": "stream",
     "text": [
      "darshan sarvaiya\n",
      "darshan sarvaiya\n",
      "darshan sarvaiya\n"
     ]
    }
   ],
   "source": [
    "print('darshan sarvaiya'.lower())\n",
    "print('Darshan Sarvaiya'.lower())\n",
    "print(\"DARSHAN SARVAIYA\".lower())"
   ]
  },
  {
   "cell_type": "code",
   "execution_count": 24,
   "id": "9ad6dddd-7696-4cb6-bba5-179bee118059",
   "metadata": {},
   "outputs": [
    {
     "name": "stdout",
     "output_type": "stream",
     "text": [
      "DARSHAN SARVAIYA\n",
      "dARSHAN sARVAIYA\n",
      "darshan sarvaiya\n"
     ]
    }
   ],
   "source": [
    "print('darshan sarvaiya'.swapcase())\n",
    "print('Darshan Sarvaiya'.swapcase())\n",
    "print(\"DARSHAN SARVAIYA\".swapcase())"
   ]
  },
  {
   "cell_type": "code",
   "execution_count": 25,
   "id": "f6e2993b-8bed-4d25-9259-5d68dd1767a2",
   "metadata": {},
   "outputs": [
    {
     "name": "stdout",
     "output_type": "stream",
     "text": [
      "Darshan Sarvaiya\n",
      "Darshan Sarvaiya\n",
      "Darshan Sarvaiya\n"
     ]
    }
   ],
   "source": [
    "print('darshan sarvaiya'.title())\n",
    "print('Darshan Sarvaiya'.title())\n",
    "print(\"DARSHAN SARVAIYA\".title())"
   ]
  },
  {
   "cell_type": "code",
   "execution_count": 26,
   "id": "d6f4e897-abe6-4947-9fa5-c8a179dafe95",
   "metadata": {},
   "outputs": [
    {
     "name": "stdout",
     "output_type": "stream",
     "text": [
      "DARSHAN SARVAIYA\n",
      "DARSHAN SARVAIYA\n",
      "DARSHAN SARVAIYA\n"
     ]
    }
   ],
   "source": [
    "print('darshan sarvaiya'.upper())\n",
    "print('Darshan Sarvaiya'.upper())\n",
    "print(\"DARSHAN SARVAIYA\".upper())"
   ]
  },
  {
   "cell_type": "markdown",
   "id": "9168cb1f-bfd2-477c-8e69-1f3b8a13fd73",
   "metadata": {},
   "source": [
    "# Alignment Methods"
   ]
  },
  {
   "cell_type": "code",
   "execution_count": 31,
   "id": "64ab04fd-c11a-4325-824a-549478d67e60",
   "metadata": {},
   "outputs": [
    {
     "name": "stdout",
     "output_type": "stream",
     "text": [
      " darshan  \n"
     ]
    }
   ],
   "source": [
    "print(\"darshan\".center(10))"
   ]
  },
  {
   "cell_type": "code",
   "execution_count": 35,
   "id": "c1ef86e9-7311-4669-94fe-a7c681797c2c",
   "metadata": {},
   "outputs": [
    {
     "name": "stdout",
     "output_type": "stream",
     "text": [
      ".darshan..\n",
      "******darshan*******\n",
      "DDDDDDDDDDDDDDDDDDDDDdarshanDDDDDDDDDDDDDDDDDDDDDD\n"
     ]
    }
   ],
   "source": [
    "print(\"darshan\".center(10,'.'))\n",
    "print(\"darshan\".center(20,'*'))\n",
    "print(\"darshan\".center(50,'D'))"
   ]
  },
  {
   "cell_type": "code",
   "execution_count": 37,
   "id": "c3c52a4e-8921-42db-802b-69e9237fbdac",
   "metadata": {},
   "outputs": [
    {
     "name": "stdout",
     "output_type": "stream",
     "text": [
      "darshan...\n",
      "darshan*************\n",
      "darshanDDDDDDDDDDDDDDDDDDDDDDDDDDDDDDDDDDDDDDDDDDD\n"
     ]
    }
   ],
   "source": [
    "print(\"darshan\".ljust(10,'.'))\n",
    "print(\"darshan\".ljust(20,'*'))\n",
    "print(\"darshan\".ljust(50,'D'))"
   ]
  },
  {
   "cell_type": "code",
   "execution_count": 39,
   "id": "ad364cdc-a4d3-422f-bdef-51708847c61d",
   "metadata": {},
   "outputs": [
    {
     "name": "stdout",
     "output_type": "stream",
     "text": [
      "...darshan\n",
      "*************darshan\n",
      "DDDDDDDDDDDDDDDDDDDDDDDDDDDDDDDDDDDDDDDDDDDdarshan\n"
     ]
    }
   ],
   "source": [
    "print(\"darshan\".rjust(10,'.'))\n",
    "print(\"darshan\".rjust(20,'*'))\n",
    "print(\"darshan\".rjust(50,'D'))"
   ]
  },
  {
   "cell_type": "code",
   "execution_count": 42,
   "id": "5f412719-7e39-4b91-ae38-12ebf870a5ab",
   "metadata": {},
   "outputs": [
    {
     "name": "stdout",
     "output_type": "stream",
     "text": [
      "Simple:darshan\tsarvaiya\n",
      "Expandtabs:darshan             sarvaiya\n"
     ]
    }
   ],
   "source": [
    "name = \"darshan\\tsarvaiya\"\n",
    "print(\"Simple:\"+name)\n",
    "print(\"Expandtabs:\"+name.expandtabs(20))"
   ]
  },
  {
   "cell_type": "code",
   "execution_count": 48,
   "id": "2648b005-fe8a-4f23-8e03-65045c1fde69",
   "metadata": {},
   "outputs": [
    {
     "name": "stdout",
     "output_type": "stream",
     "text": [
      "darshan\tsarvaiya\n",
      "0000darshan\tsarvaiya\n",
      "01\n",
      "00050\n"
     ]
    }
   ],
   "source": [
    "print(name)\n",
    "print(name.zfill(20))\n",
    "print(\"1\".zfill(2))\n",
    "print(\"50\".zfill(5))"
   ]
  },
  {
   "cell_type": "markdown",
   "id": "39dcf9fd-ff6b-4615-900a-c013b1c247c0",
   "metadata": {},
   "source": [
    "# Split and Join Methods "
   ]
  },
  {
   "cell_type": "code",
   "execution_count": 52,
   "id": "efc905c8-d90b-47c1-94bb-c999b8c6519f",
   "metadata": {},
   "outputs": [
    {
     "name": "stdout",
     "output_type": "stream",
     "text": [
      "this is string example....wow!!!8888888\n",
      "this is string example....wow!!!\n",
      "this is string example....wow!!!\n"
     ]
    }
   ],
   "source": [
    "str = \"88888888this is string example....wow!!!8888888\";\n",
    "print(str.lstrip('8'))\n",
    "str = \"      this is string example....wow!!!\"\n",
    "print(str.lstrip())\n",
    "print(str.lstrip(' '))"
   ]
  },
  {
   "cell_type": "code",
   "execution_count": 55,
   "id": "593b3397-85c0-49d6-8054-5ffd0384a6ba",
   "metadata": {},
   "outputs": [
    {
     "name": "stdout",
     "output_type": "stream",
     "text": [
      "88888888this is string example....wow!!!\n",
      "this is string example....wow!!!\n",
      "this is string example....wow!!!\n"
     ]
    }
   ],
   "source": [
    "str = \"88888888this is string example....wow!!!8888888\";\n",
    "print(str.rstrip('8'))\n",
    "str = \"this is string example....wow!!!            \"\n",
    "print(str.rstrip())\n",
    "print(str.rstrip(' '))"
   ]
  },
  {
   "cell_type": "code",
   "execution_count": 64,
   "id": "71dba128-239e-4d94-8f28-2cf1ea2d411d",
   "metadata": {},
   "outputs": [
    {
     "name": "stdout",
     "output_type": "stream",
     "text": [
      "['Darshan', 'Sarvaiya']\n",
      "['Darshan', 'Sarvaiya']\n",
      "['Da', 'shan Sa', 'vaiya']\n",
      "['Da', 'shan Sarvaiya']\n"
     ]
    }
   ],
   "source": [
    "name = \"Darshan Sarvaiya\"\n",
    "print(name.split())\n",
    "print(name.split(' '))\n",
    "print(name.split('r'))\n",
    "print(name.split('r',1))"
   ]
  },
  {
   "cell_type": "code",
   "execution_count": 69,
   "id": "4bb8dfef-f94e-40af-bee4-72b349da78f8",
   "metadata": {},
   "outputs": [
    {
     "name": "stdout",
     "output_type": "stream",
     "text": [
      "String before splitting: Names:\n",
      "Aamn\n",
      "Joy\n",
      "Ritik\n",
      "Nirav\n",
      "String after splitting:\n",
      "['Names:', 'Aamn', 'Joy', 'Ritik', 'Nirav']\n",
      "['Names:\\n', 'Aamn\\n', 'Joy\\n', 'Ritik\\n', 'Nirav']\n"
     ]
    }
   ],
   "source": [
    "str1 = \"Names:\\nAamn\\nJoy\\nRitik\\nNirav\"\n",
    "print(\"String before splitting: \" + str1)\n",
    "print(\"String after splitting:\")\n",
    "print(str1.splitlines())\n",
    "print(str1.splitlines(True))"
   ]
  },
  {
   "cell_type": "code",
   "execution_count": 71,
   "id": "f8a12699-1e1e-41b3-8275-a5c2538352b9",
   "metadata": {},
   "outputs": [
    {
     "name": "stdout",
     "output_type": "stream",
     "text": [
      "('apple', ' ', 'banana orange')\n",
      "('Darshan', '\\n', 'Sarvaiya\\nName')\n"
     ]
    }
   ],
   "source": [
    "text = \"apple banana orange\"\n",
    "result = text.partition(' ')\n",
    "print(result) \n",
    "text = \"Darshan\\nSarvaiya\\nName\"\n",
    "result = text.partition('\\n')\n",
    "print(result)"
   ]
  },
  {
   "cell_type": "code",
   "execution_count": 80,
   "id": "dc24590d-e74e-4b1b-8fa3-d6d2e25d88a2",
   "metadata": {},
   "outputs": [
    {
     "name": "stdout",
     "output_type": "stream",
     "text": [
      "('hello,darshan', ',', 'name')\n"
     ]
    }
   ],
   "source": [
    "text = \"hello,darshan,name\"\n",
    "result = text.rpartition(',')\n",
    "print(result)"
   ]
  },
  {
   "cell_type": "code",
   "execution_count": 87,
   "id": "247dc006-c305-462b-95ca-266cc88b16f6",
   "metadata": {},
   "outputs": [
    {
     "name": "stdout",
     "output_type": "stream",
     "text": [
      "a-b-c\n",
      "9#7#2#3\n"
     ]
    }
   ],
   "source": [
    "s = \"-\";\n",
    "seq = (\"a\", \"b\", \"c\"); # This is sequence of strings.\n",
    "print(s.join(seq))\n",
    "\n",
    "sets = {'9','7', '2','9','3','9'}\n",
    "character = \"#\"\n",
    "# storing in the string \n",
    "res = character.join(sets)\n",
    "print(res)"
   ]
  },
  {
   "cell_type": "code",
   "execution_count": 89,
   "id": "d8cd45eb-4762-456f-ae07-2fba3ef89792",
   "metadata": {},
   "outputs": [
    {
     "name": "stdout",
     "output_type": "stream",
     "text": [
      "World\n",
      "World\n",
      "HELLO World\n",
      "World\n"
     ]
    }
   ],
   "source": [
    "text = \"Hello World\"\n",
    "result = text.removeprefix(\"Hello \")\n",
    "print(result) \n",
    "\n",
    "text = \"World\"\n",
    "result = text.removeprefix(\"Hello \")\n",
    "print(result)   \n",
    "\n",
    "text = \"HELLO World\"\n",
    "result = text.removeprefix(\"hello \")\n",
    "print(result)\n",
    "\n",
    "text = \"12345World\"\n",
    "result = text.removeprefix(\"12345\")\n",
    "print(result)"
   ]
  },
  {
   "cell_type": "code",
   "execution_count": 91,
   "id": "b68b6164-854e-4295-989a-c18069a259aa",
   "metadata": {},
   "outputs": [
    {
     "name": "stdout",
     "output_type": "stream",
     "text": [
      "Hello World\n",
      "Hello World\n",
      "Hello World.JPG\n",
      "Hello World\n"
     ]
    }
   ],
   "source": [
    "text = \"Hello World.jpg\"\n",
    "result = text.removesuffix(\".jpg\")\n",
    "print(result) \n",
    "\n",
    "text = \"Hello World\"\n",
    "result = text.removesuffix(\".jpg\")\n",
    "print(result)\n",
    "\n",
    "text = \"Hello World.JPG\"\n",
    "result = text.removesuffix(\".jpg\")\n",
    "print(result)\n",
    "\n",
    "text = \"Hello World12345\"\n",
    "result = text.removesuffix(\"12345\")\n",
    "print(result) "
   ]
  },
  {
   "cell_type": "markdown",
   "id": "6908e650-34f3-41cf-bf61-ce3365f98ed5",
   "metadata": {},
   "source": [
    "# Boolean String Methods"
   ]
  },
  {
   "cell_type": "code",
   "execution_count": 94,
   "id": "1e10a4e0-f763-400a-a064-f1a46e4429e4",
   "metadata": {},
   "outputs": [
    {
     "name": "stdout",
     "output_type": "stream",
     "text": [
      "Are all the characters of the string alphanumeric? True\n",
      "Are all the characters of the string alphanumeric? False\n",
      "Are all the characters of the string alphanumeric? False\n",
      "Are all the characters of the string alphanumeric? True\n",
      "Are all the characters of the string alphanumeric? False\n"
     ]
    }
   ],
   "source": [
    "str = \"tutorial\"\n",
    "result=str.isalnum()\n",
    "print(\"Are all the characters of the string alphanumeric?\", result)\n",
    "\n",
    "str = \"Hello!Welcome.\"\n",
    "result=str.isalnum()\n",
    "print(\"Are all the characters of the string alphanumeric?\", result)\n",
    "\n",
    "str = \"#@%$\"\n",
    "result=str.isalnum()\n",
    "print(\"Are all the characters of the string alphanumeric?\", result)\n",
    "\n",
    "str = \"Aa12\"\n",
    "result=str.isalnum()\n",
    "print(\"Are all the characters of the string alphanumeric?\", result)\n",
    "\n",
    "str = \"1234567189 \"\n",
    "result=str.isalnum()\n",
    "print(\"Are all the characters of the string alphanumeric?\", result)"
   ]
  },
  {
   "cell_type": "code",
   "execution_count": 96,
   "id": "412c64e4-af40-4dcb-9f46-726f3398a559",
   "metadata": {},
   "outputs": [
    {
     "name": "stdout",
     "output_type": "stream",
     "text": [
      "Are all the characters of the string alphabetic? False\n",
      "Are all the characters of the string alphabetic? True\n",
      "Are all the characters of the string alphabetic? False\n",
      "Are all the characters of the string alphabetic? True\n",
      "Are all the characters of the string alphabetic? False\n"
     ]
    }
   ],
   "source": [
    "str = \"Hello!welcome\"\n",
    "result=str.isalpha()\n",
    "print(\"Are all the characters of the string alphabetic?\", result)\n",
    "\n",
    "str = \"Welcome\"\n",
    "result=str.isalpha()\n",
    "print(\"Are all the characters of the string alphabetic?\", result)\n",
    "\n",
    "str = \"welcome \"\n",
    "result=str.isalpha()\n",
    "print(\"Are all the characters of the string alphabetic?\", result)\n",
    "\n",
    "str = \"aBCD\"\n",
    "result=str.isalpha()\n",
    "print(\"Are all the characters of the string alphabetic?\", result)\n",
    "\n",
    "str = \"Welcome to Darshan12\"\n",
    "result=str.isalpha()\n",
    "print(\"Are all the characters of the string alphabetic?\", result)"
   ]
  },
  {
   "cell_type": "code",
   "execution_count": 98,
   "id": "76924e81-8af6-43b7-9ea2-ba776e49ce43",
   "metadata": {},
   "outputs": [
    {
     "name": "stdout",
     "output_type": "stream",
     "text": [
      "Are all the characters of the string digits? True\n",
      "Are all the characters of the string digits? True\n",
      "Are all the characters of the string digits? True\n",
      "Are all the characters of the string digits? True\n",
      "Are all the characters of the string digits? False\n"
     ]
    }
   ],
   "source": [
    "str = \"1235\"\n",
    "result=str.isdigit()\n",
    "print(\"Are all the characters of the string digits?\", result)\n",
    "\n",
    "str = \"𐩁𐩂𐩃\"\n",
    "result=str.isdigit()\n",
    "print(\"Are all the characters of the string digits?\", result)\n",
    "\n",
    "str = \"\\u00B3\" #superscript of 3\n",
    "result=str.isdigit()\n",
    "print(\"Are all the characters of the string digits?\", result)\n",
    "\n",
    "str = \"\\u0030\" #unicode for 0\n",
    "result=str.isdigit()\n",
    "print(\"Are all the characters of the string digits?\", result)\n",
    "\n",
    "str = \"\\u00BE\" #unicode for fraction 3/4\n",
    "result=str.isdigit()\n",
    "print(\"Are all the characters of the string digits?\", result)"
   ]
  },
  {
   "cell_type": "code",
   "execution_count": 99,
   "id": "766d8712-3793-4130-8b21-1aec773fa92a",
   "metadata": {},
   "outputs": [
    {
     "name": "stdout",
     "output_type": "stream",
     "text": [
      "Are all the cased characters in the string lowercases? False\n",
      "Are all the cased characters in the string lowercases? True\n",
      "Are all the cased characters in the string lowercases? True\n",
      "Are all the cased characters in the string lowercases? True\n",
      "Are all the cased characters in the string lowercases? False\n"
     ]
    }
   ],
   "source": [
    "str = \"Hello! Welcome to Darshan!\"; \n",
    "result=str.islower()\n",
    "print(\"Are all the cased characters in the string lowercases?\", result)\n",
    "\n",
    "str = \"welcome to Darshan\"; \n",
    "result=str.islower()\n",
    "print(\"Are all the cased characters in the string lowercases?\", result)\n",
    "\n",
    "str = \"welcome_to_Darshan!\"; \n",
    "result=str.islower()\n",
    "print(\"Are all the cased characters in the string lowercases?\", result)\n",
    "\n",
    "str = \"welcome123\"; \n",
    "result=str.islower()\n",
    "print(\"Are all the cased characters in the string lowercases?\", result)\n",
    "\n",
    "str = \"\"; \n",
    "result=str.islower()\n",
    "print(\"Are all the cased characters in the string lowercases?\", result)"
   ]
  },
  {
   "cell_type": "code",
   "execution_count": 101,
   "id": "84614f7f-630e-4372-83eb-b8d77a1f2e01",
   "metadata": {},
   "outputs": [
    {
     "name": "stdout",
     "output_type": "stream",
     "text": [
      "Are all the characters of the string numeric? False\n",
      "Are all the characters of the string numeric? True\n",
      "Are all the characters of the string numeric? True\n",
      "Are all the characters of the string numeric? True\n",
      "Are all the characters of the string numeric? True\n"
     ]
    }
   ],
   "source": [
    "str = \"Welcome2023\"\n",
    "result=str.isnumeric()\n",
    "print(\"Are all the characters of the string numeric?\", result)\n",
    "\n",
    "str = \"2023\"\n",
    "result=str.isnumeric()\n",
    "print(\"Are all the characters of the string numeric?\", result)\n",
    "\n",
    "str = \"\\u0030\" #unicode for 0\n",
    "result=str.isnumeric()\n",
    "print(\"Are all the characters of the string numeric?\", result)\n",
    "\n",
    "str = \"\\u00BE\" #unicode for fraction 3/4\n",
    "result=str.isnumeric()\n",
    "print(\"Are all the characters of the string numeric?\", result)\n",
    "\n",
    "str = \"𐩁𐩂𐩃\" \n",
    "result=str.isnumeric()\n",
    "print(\"Are all the characters of the string numeric?\", result)"
   ]
  },
  {
   "cell_type": "code",
   "execution_count": 102,
   "id": "10386229-9de1-486d-b665-0952b933933c",
   "metadata": {},
   "outputs": [
    {
     "name": "stdout",
     "output_type": "stream",
     "text": [
      "Are all the characters of the string spaces? True\n",
      "Are all the characters of the string spaces? False\n",
      "Are all the characters of the string spaces? True\n",
      "Are all the characters of the string spaces? True\n",
      "Are all the characters of the string spaces? True\n"
     ]
    }
   ],
   "source": [
    "str = \" \"\n",
    "result=str.isspace()\n",
    "print(\"Are all the characters of the string spaces?\", result)\n",
    "\n",
    "str = \"s\"\n",
    "result=str.isspace()\n",
    "print(\"Are all the characters of the string spaces?\", result)\n",
    "\n",
    "str = \"\\t\\t\\t\"\n",
    "result=str.isspace()\n",
    "print(\"Are all the characters of the string spaces?\", result)\n",
    "\n",
    "str = \"\\n\"\n",
    "result=str.isspace()\n",
    "print(\"Are all the characters of the string spaces?\", result)\n",
    "\n",
    "str = \"\\v\\f\\r\"\n",
    "result=str.isspace()\n",
    "print(\"Are all the characters of the string spaces?\", result)"
   ]
  },
  {
   "cell_type": "code",
   "execution_count": 103,
   "id": "3645280a-e287-4a58-8fe0-5f569fecade7",
   "metadata": {},
   "outputs": [
    {
     "name": "stdout",
     "output_type": "stream",
     "text": [
      "Is the input string titlecased? True\n",
      "Is the input string titlecased? False\n",
      "Is the input string titlecased? False\n",
      "Is the input string titlecased? False\n",
      "Is the input string titlecased? True\n"
     ]
    }
   ],
   "source": [
    "str = \"Darshan!\"\n",
    "result=str.istitle()\n",
    "print(\"Is the input string titlecased?\", result)\n",
    "\n",
    "str = \"Darshan!\"\n",
    "result=str.istitle()\n",
    "print(\"Is the input string titlecased?\", result)\n",
    "\n",
    "str = \"Hello world\"\n",
    "result=str.istitle()\n",
    "print(\"Is the input string titlecased?\", result)\n",
    "\n",
    "str = \"Hello!Welcome To Darshan.\"\n",
    "result=str.istitle()\n",
    "print(\"Is the input string titlecased?\", result)\n",
    "\n",
    "str = \"123Hello World.\"\n",
    "result=str.istitle()\n",
    "print(\"Is the input string titlecased?\", result)"
   ]
  },
  {
   "cell_type": "code",
   "execution_count": 105,
   "id": "7d249361-f74d-4e27-83a5-6b4e9dfaea15",
   "metadata": {},
   "outputs": [
    {
     "name": "stdout",
     "output_type": "stream",
     "text": [
      "Is the given string in uppercase?:  True\n",
      "False\n",
      "Is the given string in uppercase?:  False\n"
     ]
    }
   ],
   "source": [
    "# initializing the string\n",
    "Given_string = \"PYTHON\"\n",
    "# Checking whether the string is in uppercase\n",
    "res = Given_string.isupper()\n",
    "# Printing the result\n",
    "print (\"Is the given string in uppercase?: \", res)\n",
    "\n",
    "# initialize the string\n",
    "str = \"this is string example....wow!!!\";\n",
    "print (str.isupper())\n",
    "\n",
    "\n",
    "\n",
    "# initializing the string\n",
    "Given_string = \"Cod3iN#g\"\n",
    "# Checking whether the string is in uppercase\n",
    "res = Given_string.isupper()\n",
    "# Printing the result\n",
    "print (\"Is the given string in uppercase?: \", res)"
   ]
  },
  {
   "cell_type": "code",
   "execution_count": 106,
   "id": "8c4e24e1-ba4e-467f-9e02-227d382aacbf",
   "metadata": {},
   "outputs": [
    {
     "name": "stdout",
     "output_type": "stream",
     "text": [
      "The result is: True\n",
      "The result is: True\n",
      "The result is: True\n",
      "The result is: False\n",
      "The result is: True\n"
     ]
    }
   ],
   "source": [
    "text = \"Hello\"\n",
    "result = text.isascii()\n",
    "print(\"The result is:\",result)  \n",
    "\n",
    "text = \"\"\n",
    "result = text.isascii()\n",
    "print(\"The result is:\",result)     \n",
    "\n",
    "text = \"!@#$%\"\n",
    "result = text.isascii()\n",
    "print(\"The result is:\",result)   \n",
    "\n",
    "text = \"Hèllo\"\n",
    "result = text.isascii()\n",
    "print(\"The result is:\",result)\n",
    "\n",
    "text = \"\\u0048\\u0065\\u006c\\u006c\\u006f\"\n",
    "result = text.isascii()\n",
    "print(\"The result is:\",result)"
   ]
  },
  {
   "cell_type": "code",
   "execution_count": 107,
   "id": "dc463ba0-d34b-499e-b97c-f5552e596b60",
   "metadata": {},
   "outputs": [
    {
     "name": "stdout",
     "output_type": "stream",
     "text": [
      "True\n",
      "False\n",
      "False\n",
      "False\n"
     ]
    }
   ],
   "source": [
    "str = u\"23443434\"\n",
    "print(str.isdecimal())\n",
    "\n",
    "str = u\"this2009\" \n",
    "print(str.isdecimal())\n",
    "\n",
    "str = u\"\\u20783434\"\n",
    "print(str.isdecimal())\n",
    "\n",
    "str = u\"\\u21623434\"\n",
    "print(str.isdecimal())"
   ]
  },
  {
   "cell_type": "code",
   "execution_count": 109,
   "id": "4afe61ca-77c1-4929-932b-3b72839b8156",
   "metadata": {},
   "outputs": [
    {
     "name": "stdout",
     "output_type": "stream",
     "text": [
      "The result is: True\n",
      "The result is: True\n",
      "The result is: True\n",
      "The result is: False\n",
      "The result is: False\n"
     ]
    }
   ],
   "source": [
    "text = \"Hello World\"\n",
    "result = text.isprintable()\n",
    "print(\"The result is:\",result)\n",
    "\n",
    "text = \"\"\n",
    "result = text.isprintable()\n",
    "print(\"The result is:\",result)     \n",
    "\n",
    "text = \"!@#$%\"\n",
    "result = text.isprintable()\n",
    "print(\"The result is:\",result)   \n",
    "\n",
    "text = \"Hello\\nWorld\"\n",
    "result = text.isprintable()\n",
    "print(\"The result is:\",result)  \n",
    "\n",
    "text = \"\\x1b[31mHello World\\x1b[0m\"\n",
    "result = text.isprintable()\n",
    "print(\"The result is:\",result)  "
   ]
  },
  {
   "cell_type": "markdown",
   "id": "5ee944f8-c267-4bc1-b2f8-5f22eee4cebd",
   "metadata": {},
   "source": [
    "# Find and Replace Methods"
   ]
  },
  {
   "cell_type": "code",
   "execution_count": 117,
   "id": "9a840424-5bb9-43fa-ad9c-2ae8fbc4457b",
   "metadata": {},
   "outputs": [
    {
     "name": "stdout",
     "output_type": "stream",
     "text": [
      "The number of occurrences of the substring in the input string are:  5\n",
      "The number of occurrences of the substring in the input string are:  2\n"
     ]
    }
   ],
   "source": [
    "str = \"Hello! Welcome to Darshan.\";\n",
    "substr = \"o\";\n",
    "print(\"The number of occurrences of the substring in the input string are: \", str.count(substr))\n",
    "print(\"The number of occurrences of the substring in the input string are: \", str.count(substr,15,22))"
   ]
  },
  {
   "cell_type": "code",
   "execution_count": 126,
   "id": "365cc499-1abe-426a-b319-e7d333521c8c",
   "metadata": {},
   "outputs": [
    {
     "name": "stdout",
     "output_type": "stream",
     "text": [
      "The index where the substring is found: 15\n",
      "The index where the substring is found: 20\n",
      "The index where the substring is found: 15\n"
     ]
    }
   ],
   "source": [
    "str1 = \"Hello! Welcome to Darshan.\"\n",
    "str2 = \"to\";\n",
    "result= str1.find(str2)\n",
    "print(\"The index where the substring is found:\", result)\n",
    "result= str1.find(str2,20)\n",
    "print(\"The index where the substring is found:\", result)\n",
    "result= str1.find(str2,10,30)\n",
    "print(\"The index where the substring is found:\", result)"
   ]
  },
  {
   "cell_type": "code",
   "execution_count": 130,
   "id": "bf11e57f-47d7-4944-9e54-4739402f6af9",
   "metadata": {},
   "outputs": [
    {
     "name": "stdout",
     "output_type": "stream",
     "text": [
      "The index of substring:\n",
      "-1\n",
      "5\n"
     ]
    }
   ],
   "source": [
    "str1 = \"This is a string\";\n",
    "\n",
    "print(\"The index of substring:\")\n",
    "print(str1.rfind('Hello\"'))\n",
    "print(str1.rfind('is'))"
   ]
  },
  {
   "cell_type": "code",
   "execution_count": 134,
   "id": "2231d1c3-39ce-44c0-a02d-354d8a80c576",
   "metadata": {},
   "outputs": [
    {
     "name": "stdout",
     "output_type": "stream",
     "text": [
      "The index where the substring is found: 6\n"
     ]
    }
   ],
   "source": [
    "str1 = \"Hello! Welcome to Darshan.\"\n",
    "str2 = \" \";\n",
    "result= str1.index(str2)\n",
    "print(\"The index where the substring is found:\", result)"
   ]
  },
  {
   "cell_type": "code",
   "execution_count": 138,
   "id": "92238066-d1a2-460f-adf1-0647e16bff50",
   "metadata": {},
   "outputs": [
    {
     "name": "stdout",
     "output_type": "stream",
     "text": [
      "49\n",
      "64\n"
     ]
    }
   ],
   "source": [
    " \n",
    "# inputting a string\n",
    "string = 'Darshan is a great place to learn Python. Darshan is an ian company'\n",
    "# finding the 'Darshan' using rindex\n",
    "print(string.rindex('Darshan'))\n",
    "# finding the 'is' using rfind\n",
    "print(string.rindex('is'))"
   ]
  },
  {
   "cell_type": "code",
   "execution_count": 137,
   "id": "6557ddb1-7e5c-4956-87e0-4095fa7ed9b6",
   "metadata": {},
   "outputs": [
    {
     "name": "stdout",
     "output_type": "stream",
     "text": [
      "String after replacing: Welc0me t0 Tut0rialsp0int\n",
      "String after replacing: Fred fed xx bread and Ted fed Fred bread.\n"
     ]
    }
   ],
   "source": [
    "str = \"Welcome to Darshan\"\n",
    "str_replace = str.replace(\"o\", \"0\")\n",
    "print(\"String after replacing: \" + str_replace)\n",
    "\n",
    "str = \"Fred fed Ted bread and Ted fed Fred bread.\"\n",
    "strreplace = str.replace(\"Ted\", \"xx\", 1)\n",
    "print(\"String after replacing: \" + strreplace)"
   ]
  },
  {
   "cell_type": "code",
   "execution_count": 141,
   "id": "9314e1a9-4aa9-4986-b07f-ec33447d2b07",
   "metadata": {},
   "outputs": [
    {
     "name": "stdout",
     "output_type": "stream",
     "text": [
      "True\n",
      "False\n",
      "False\n",
      "True\n"
     ]
    }
   ],
   "source": [
    "str = \"this is string example....wow!!!\";\n",
    "print(str.startswith( 'this' ))\n",
    "print(str.startswith( 'is' ))\n",
    "\n",
    "str = \"this is string example....wow!!!\";\n",
    "print(str.startswith( 'this', 3, 10 ))\n",
    "print(str.startswith( 'is', 2, 8 ))"
   ]
  },
  {
   "cell_type": "code",
   "execution_count": 142,
   "id": "ff77ffd4-1b9f-4903-9569-d36b09407f14",
   "metadata": {},
   "outputs": [
    {
     "name": "stdout",
     "output_type": "stream",
     "text": [
      "The input string ends with the given suffix: True\n",
      "The input string ends with the given suffix: True\n"
     ]
    }
   ],
   "source": [
    "str = \"Hello!Welcome to Darshan.\";\n",
    "suffix = \"oint.\";\n",
    "result=str.endswith(suffix)\n",
    "print(\"The input string ends with the given suffix:\", result)\n",
    "\n",
    "str = \"Hello!Welcome to Darshan.\";\n",
    "suffix = \"oint.\";\n",
    "result=str.endswith(suffix, 27, 32)\n",
    "print(\"The input string ends with the given suffix:\",result)"
   ]
  }
 ],
 "metadata": {
  "kernelspec": {
   "display_name": "Python 3 (ipykernel)",
   "language": "python",
   "name": "python3"
  },
  "language_info": {
   "codemirror_mode": {
    "name": "ipython",
    "version": 3
   },
   "file_extension": ".py",
   "mimetype": "text/x-python",
   "name": "python",
   "nbconvert_exporter": "python",
   "pygments_lexer": "ipython3",
   "version": "3.12.2"
  }
 },
 "nbformat": 4,
 "nbformat_minor": 5
}
